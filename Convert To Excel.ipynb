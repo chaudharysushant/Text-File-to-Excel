{
 "cells": [
  {
   "cell_type": "code",
   "execution_count": null,
   "id": "fdddbb39",
   "metadata": {},
   "outputs": [],
   "source": [
    "import pandas as pd\n",
    "import re\n",
    "\n",
    "input_file_path = r'C:\\\\Users\\\\Sushant-Chaudhary\\\\Desktop\\\\Repricing Claim Service Lines.txt'\n",
    "output_excel_file_path = r'C:\\\\Users\\\\Sushant-Chaudhary\\\\Desktop\\\\Repricing Claim Service Lines.xlsx'\n",
    "\n",
    "pattern = r'COLUMN=(\\w+)\\s+(\\w+\\([\\d]+(?:,[\\d]+)?\\)),\\s+DESCRIPTION=\\s+(\\d+)\\s+-\\s+(\\d+)\\s+(.+)'\n",
    "\n",
    "dfs = []\n",
    "\n",
    "with open(input_file_path, 'r') as file:\n",
    "    for line in file:\n",
    "        match = re.match(pattern, line)\n",
    "        if match:\n",
    "            column_name, data_type, start_pos, end_pos, description = match.groups()\n",
    "\n",
    "            df_line = pd.DataFrame({\n",
    "                'COLUMN NAME': [column_name],\n",
    "                'DATA TYPE': [data_type],\n",
    "                'START POSITION': [int(start_pos)],\n",
    "                'END POSITION': [int(end_pos)],\n",
    "                'DESCRIPTION': [description]\n",
    "            })\n",
    "\n",
    "            dfs.append(df_line)\n",
    "\n",
    "result_df = pd.concat(dfs, ignore_index=True)\n",
    "\n",
    "result_df.to_excel(output_excel_file_path, index=False)\n",
    "\n",
    "\n",
    "df = pd.read_excel(output_excel_file_path)\n",
    "\n",
    "df['DESCRIPTION'] = df['DESCRIPTION'].apply(lambda x: re.sub(r'[\\:\\;\\#\\_\\-\\$\\&\\%\\@\\[\\b(?:[1-9]|[1-9]\\d|100)\\b\\]]', '', str(x)))\n",
    "\n",
    "df.to_excel('C:\\\\Users\\\\Sushant-Chaudhary\\\\Desktop\\\\modified_Repricing Claim Service Lines.xlsx', index=False)\n"
   ]
  }
 ],
 "metadata": {
  "kernelspec": {
   "display_name": "Python 3 (ipykernel)",
   "language": "python",
   "name": "python3"
  },
  "language_info": {
   "codemirror_mode": {
    "name": "ipython",
    "version": 3
   },
   "file_extension": ".py",
   "mimetype": "text/x-python",
   "name": "python",
   "nbconvert_exporter": "python",
   "pygments_lexer": "ipython3",
   "version": "3.11.5"
  }
 },
 "nbformat": 4,
 "nbformat_minor": 5
}
